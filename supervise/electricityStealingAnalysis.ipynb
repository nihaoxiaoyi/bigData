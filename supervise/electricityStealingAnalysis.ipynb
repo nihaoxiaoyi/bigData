{
 "cells": [
  {
   "cell_type": "markdown",
   "metadata": {},
   "source": [
    "# 窃漏电分析"
   ]
  },
  {
   "cell_type": "markdown",
   "metadata": {},
   "source": [
    "## 导入常用库"
   ]
  },
  {
   "cell_type": "code",
   "execution_count": 47,
   "metadata": {},
   "outputs": [],
   "source": [
    "import numpy as np\n",
    "import pandas as pd\n",
    "from matplotlib import pyplot as plt"
   ]
  },
  {
   "cell_type": "markdown",
   "metadata": {},
   "source": [
    "## 读取数据"
   ]
  },
  {
   "cell_type": "code",
   "execution_count": 48,
   "metadata": {},
   "outputs": [
    {
     "data": {
      "text/html": [
       "<div>\n",
       "<style scoped>\n",
       "    .dataframe tbody tr th:only-of-type {\n",
       "        vertical-align: middle;\n",
       "    }\n",
       "\n",
       "    .dataframe tbody tr th {\n",
       "        vertical-align: top;\n",
       "    }\n",
       "\n",
       "    .dataframe thead th {\n",
       "        text-align: right;\n",
       "    }\n",
       "</style>\n",
       "<table border=\"1\" class=\"dataframe\">\n",
       "  <thead>\n",
       "    <tr style=\"text-align: right;\">\n",
       "      <th></th>\n",
       "      <th>Power trend decreases</th>\n",
       "      <th>line loss</th>\n",
       "      <th>warning</th>\n",
       "      <th>label</th>\n",
       "    </tr>\n",
       "  </thead>\n",
       "  <tbody>\n",
       "    <tr>\n",
       "      <th>0</th>\n",
       "      <td>4.0</td>\n",
       "      <td>1.0</td>\n",
       "      <td>1.0</td>\n",
       "      <td>1.0</td>\n",
       "    </tr>\n",
       "    <tr>\n",
       "      <th>1</th>\n",
       "      <td>4.0</td>\n",
       "      <td>0.0</td>\n",
       "      <td>4.0</td>\n",
       "      <td>1.0</td>\n",
       "    </tr>\n",
       "    <tr>\n",
       "      <th>2</th>\n",
       "      <td>2.0</td>\n",
       "      <td>1.0</td>\n",
       "      <td>1.0</td>\n",
       "      <td>1.0</td>\n",
       "    </tr>\n",
       "    <tr>\n",
       "      <th>3</th>\n",
       "      <td>9.0</td>\n",
       "      <td>0.0</td>\n",
       "      <td>0.0</td>\n",
       "      <td>0.0</td>\n",
       "    </tr>\n",
       "    <tr>\n",
       "      <th>4</th>\n",
       "      <td>3.0</td>\n",
       "      <td>1.0</td>\n",
       "      <td>0.0</td>\n",
       "      <td>0.0</td>\n",
       "    </tr>\n",
       "  </tbody>\n",
       "</table>\n",
       "</div>"
      ],
      "text/plain": [
       "   Power trend decreases  line loss  warning  label\n",
       "0                    4.0        1.0      1.0    1.0\n",
       "1                    4.0        0.0      4.0    1.0\n",
       "2                    2.0        1.0      1.0    1.0\n",
       "3                    9.0        0.0      0.0    0.0\n",
       "4                    3.0        1.0      0.0    0.0"
      ]
     },
     "execution_count": 48,
     "metadata": {},
     "output_type": "execute_result"
    }
   ],
   "source": [
    "data = pd.read_csv('res/data0.csv',encoding='gb2312')       # 由于数据集的编码方式为gb2312，read_csv方法默认编码方式utf-8\n",
    "data.columns= ['Power trend decreases','line loss','warning','label']\n",
    "data.head()"
   ]
  },
  {
   "cell_type": "markdown",
   "metadata": {},
   "source": [
    "## 数据预处理"
   ]
  },
  {
   "cell_type": "markdown",
   "metadata": {},
   "source": [
    "### 清除空值"
   ]
  },
  {
   "cell_type": "code",
   "execution_count": 49,
   "metadata": {},
   "outputs": [
    {
     "data": {
      "text/plain": [
       "Power trend decreases    0\n",
       "line loss                0\n",
       "warning                  0\n",
       "label                    0\n",
       "dtype: int64"
      ]
     },
     "execution_count": 49,
     "metadata": {},
     "output_type": "execute_result"
    }
   ],
   "source": [
    "data.dropna(axis=0,inplace=True)        # 行中有空值，则删除行\n",
    "isna_sum = data.isna().sum()\n",
    "isna_sum"
   ]
  },
  {
   "cell_type": "markdown",
   "metadata": {},
   "source": [
    "## 数据可视化"
   ]
  },
  {
   "cell_type": "markdown",
   "metadata": {},
   "source": [
    "### 将数据转换位ndarray类型"
   ]
  },
  {
   "cell_type": "code",
   "execution_count": 87,
   "metadata": {},
   "outputs": [
    {
     "name": "stdout",
     "output_type": "stream",
     "text": [
      "features[0:5]:  [[4. 1. 1.]\n",
      " [4. 0. 4.]\n",
      " [2. 1. 1.]\n",
      " [9. 0. 0.]\n",
      " [3. 1. 0.]]\n",
      "label[0:5]:  [1 1 1 0 0]\n"
     ]
    }
   ],
   "source": [
    "data_columns = np.array(data.columns)\n",
    "data_features = np.array(data[data_columns[:len(data_columns)-1]])       # 获取特征\n",
    "data_label = np.array(data[data_columns[-1]].astype('int'))              # 获取标签\n",
    "data_label_names = ['un steal','steal']\n",
    "print('features[0:5]: ',data_features[0:5])\n",
    "print('label[0:5]: ',data_label[0:5])"
   ]
  },
  {
   "cell_type": "markdown",
   "metadata": {},
   "source": [
    "### 窃电比例"
   ]
  },
  {
   "cell_type": "code",
   "execution_count": 88,
   "metadata": {},
   "outputs": [
    {
     "name": "stdout",
     "output_type": "stream",
     "text": [
      "[251, 40]\n"
     ]
    },
    {
     "data": {
      "image/png": "[encoded data removed]",
      "text/plain": [
       "<Figure size 432x432 with 1 Axes>"
      ]
     },
     "metadata": {},
     "output_type": "display_data"
    }
   ],
   "source": [
    "x = [len(data_label)-data_label.sum(),data_label.sum()]\n",
    "print(x)\n",
    "\n",
    "plt.figure(figsize=(6,6))\n",
    "plt.title('Electricity stealing rate')\n",
    "plt.pie(x=x,autopct=\"%1.1f%%\",shadow=True,explode=[0,0.05],labels=data_label_names)\n",
    "plt.show()"
   ]
  },
  {
   "cell_type": "markdown",
   "metadata": {},
   "source": [
    "### 各特征之间的关系"
   ]
  },
  {
   "cell_type": "code",
   "execution_count": 91,
   "metadata": {},
   "outputs": [
    {
     "data": {
      "image/png": "[encoded data removed]",
      "text/plain": [
       "<Figure size 1152x288 with 3 Axes>"
      ]
     },
     "metadata": {
      "needs_background": "light"
     },
     "output_type": "display_data"
    }
   ],
   "source": [
    "combination = [[0,1],[0,2],[1,2]]       # 各特征之间的组合\n",
    "plt.figure(figsize=(16,4))\n",
    "pos = 1\n",
    "color = 'br'\n",
    "for index in combination:\n",
    "    x = data_features[...,index[0]]\n",
    "    y = data_features[...,index[1]]\n",
    "    ax = plt.subplot(1,3,pos)\n",
    "    pos+=1\n",
    "    plt.xlabel(data_columns[index[0]])\n",
    "    plt.ylabel(data_columns[index[1]])\n",
    "    # 调整xy轴的范围\n",
    "    plt.xlim(x.min()-0.5,x.max()*1.3)\n",
    "    plt.ylim(y.min()-0.5,y.max()*1.3)\n",
    "    for i,c in zip(range(2),color):\n",
    "        idx = np.where(data_label==i)\n",
    "        ax.scatter(x=data_features[idx,index[0]],y=data_features[idx,index[1]],c=c,cmap=plt.cm.RdYlBu,label=data_label_names[i])\n",
    "plt.suptitle('Relationship between features')\n",
    "plt.legend(loc='best')\n",
    "plt.show()"
   ]
  },
  {
   "cell_type": "markdown",
   "metadata": {},
   "source": [
    "### 特征与标签之间的关系"
   ]
  },
  {
   "cell_type": "code",
   "execution_count": 119,
   "metadata": {},
   "outputs": [
    {
     "data": {
      "image/png": "[encoded data removed]",
      "text/plain": [
       "<Figure size 864x216 with 3 Axes>"
      ]
     },
     "metadata": {
      "needs_background": "light"
     },
     "output_type": "display_data"
    }
   ],
   "source": [
    "pos = 1\n",
    "plt.figure(figsize=(12,3))\n",
    "for i in range(3):\n",
    "    x = data_label\n",
    "    y = data_features[:,0]\n",
    "    ax = plt.subplot(1,3,pos)\n",
    "    pos+=1\n",
    "    plt.xlabel(data_columns[-1])\n",
    "    plt.ylabel(data_columns[i])\n",
    "    ax.scatter(x,y,c=x)"
   ]
  },
  {
   "cell_type": "markdown",
   "metadata": {},
   "source": [
    "## 训练模型"
   ]
  },
  {
   "cell_type": "markdown",
   "metadata": {},
   "source": [
    "### 数据分成测试集和训练集"
   ]
  },
  {
   "cell_type": "code",
   "execution_count": 103,
   "metadata": {},
   "outputs": [],
   "source": [
    "from sklearn.model_selection import train_test_split\n",
    "from sklearn import metrics as mt\n",
    "\n",
    "X_train,X_test,y_train,y_test = train_test_split(data_features,data_label,test_size=0.5,random_state=5)"
   ]
  },
  {
   "cell_type": "markdown",
   "metadata": {},
   "source": [
    "### svm"
   ]
  },
  {
   "cell_type": "code",
   "execution_count": 107,
   "metadata": {},
   "outputs": [
    {
     "name": "stdout",
     "output_type": "stream",
     "text": [
      "SVC score =  0.9246575342465754\n",
      "SVR score =  0.9246575342465754\n"
     ]
    },
    {
     "name": "stderr",
     "output_type": "stream",
     "text": [
      "f:\\Anaconda3\\lib\\site-packages\\sklearn\\svm\\_base.py:1208: ConvergenceWarning: Liblinear failed to converge, increase the number of iterations.\n",
      "  ConvergenceWarning,\n"
     ]
    }
   ],
   "source": [
    "from sklearn import svm\n",
    "\n",
    "clf = svm.SVC()\n",
    "clf.fit(X=X_train,y=y_train)\n",
    "y_pred = clf.predict(X=X_test)\n",
    "score = mt.accuracy_score(y_true=y_test,y_pred=y_pred)\n",
    "print('SVC score = ',score)"
   ]
  },
  {
   "cell_type": "markdown",
   "metadata": {},
   "source": [
    "### KNeighborsClassifier"
   ]
  },
  {
   "cell_type": "code",
   "execution_count": 109,
   "metadata": {},
   "outputs": [
    {
     "name": "stdout",
     "output_type": "stream",
     "text": [
      "KNeighborsClassifier score =  0.910958904109589\n"
     ]
    }
   ],
   "source": [
    "from sklearn import neighbors\n",
    "\n",
    "clf = neighbors.KNeighborsClassifier()\n",
    "clf.fit(X=X_train,y=y_train)\n",
    "y_pred = clf.predict(X=X_test)\n",
    "score = mt.accuracy_score(y_true=y_test,y_pred=y_pred)\n",
    "print('KNeighborsClassifier score = ',score)"
   ]
  },
  {
   "cell_type": "markdown",
   "metadata": {},
   "source": [
    "### DecisionTreeClassifier"
   ]
  },
  {
   "cell_type": "code",
   "execution_count": 110,
   "metadata": {},
   "outputs": [
    {
     "name": "stdout",
     "output_type": "stream",
     "text": [
      "DecisionTreeClassifier score =  0.8972602739726028\n"
     ]
    }
   ],
   "source": [
    "from sklearn import tree\n",
    "\n",
    "clf = tree.DecisionTreeClassifier()\n",
    "clf.fit(X=X_train,y=y_train)\n",
    "y_pred = clf.predict(X=X_test)\n",
    "score = mt.accuracy_score(y_true=y_test,y_pred=y_pred)\n",
    "print('DecisionTreeClassifier score = ',score)"
   ]
  },
  {
   "cell_type": "markdown",
   "metadata": {},
   "source": [
    "### RandomForestClassifier 和 GradientBoostingClassifier"
   ]
  },
  {
   "cell_type": "code",
   "execution_count": 112,
   "metadata": {},
   "outputs": [
    {
     "name": "stdout",
     "output_type": "stream",
     "text": [
      "RandomForestClassifier score =  0.9178082191780822\n",
      "GradientBoostingClassifier score =  0.910958904109589\n"
     ]
    }
   ],
   "source": [
    "from sklearn import ensemble\n",
    "\n",
    "clf = ensemble.RandomForestClassifier()\n",
    "clf.fit(X=X_train,y=y_train)\n",
    "y_pred = clf.predict(X=X_test)\n",
    "score = mt.accuracy_score(y_true=y_test,y_pred=y_pred)\n",
    "print('RandomForestClassifier score = ',score)\n",
    "\n",
    "clf = ensemble.GradientBoostingClassifier()\n",
    "clf.fit(X=X_train,y=y_train)\n",
    "y_pred = clf.predict(X=X_test)\n",
    "score = mt.accuracy_score(y_true=y_test,y_pred=y_pred)\n",
    "print('GradientBoostingClassifier score = ',score)"
   ]
  },
  {
   "cell_type": "markdown",
   "metadata": {},
   "source": [
    "### GaussianNB 、 MultinomialNB 、 BernoulliNB 和 CategoricalNB"
   ]
  },
  {
   "cell_type": "code",
   "execution_count": 118,
   "metadata": {},
   "outputs": [
    {
     "name": "stdout",
     "output_type": "stream",
     "text": [
      "GaussianNB score =  0.910958904109589\n",
      "MultinomialNB score =  0.8835616438356164\n",
      "BernoulliNB score =  0.8835616438356164\n",
      "CategoricalNB score =  0.9178082191780822\n"
     ]
    }
   ],
   "source": [
    "from sklearn import naive_bayes\n",
    "\n",
    "clf = naive_bayes.GaussianNB()\n",
    "clf.fit(X=X_train,y=y_train)\n",
    "y_pred = clf.predict(X=X_test)\n",
    "score = mt.accuracy_score(y_true=y_test,y_pred=y_pred)\n",
    "print('GaussianNB score = ',score)\n",
    "\n",
    "clf = naive_bayes.MultinomialNB()\n",
    "clf.fit(X=X_train,y=y_train)\n",
    "y_pred = clf.predict(X=X_test)\n",
    "score = mt.accuracy_score(y_true=y_test,y_pred=y_pred)\n",
    "print('MultinomialNB score = ',score)\n",
    "\n",
    "clf = naive_bayes.BernoulliNB()\n",
    "clf.fit(X=X_train,y=y_train)\n",
    "y_pred = clf.predict(X=X_test)\n",
    "score = mt.accuracy_score(y_true=y_test,y_pred=y_pred)\n",
    "print('BernoulliNB score = ',score)\n",
    "\n",
    "clf = naive_bayes.CategoricalNB()\n",
    "clf.fit(X=X_train,y=y_train)\n",
    "y_pred = clf.predict(X=X_test)\n",
    "score = mt.accuracy_score(y_true=y_test,y_pred=y_pred)\n",
    "print('CategoricalNB score = ',score)"
   ]
  }
 ],
 "metadata": {
  "kernelspec": {
   "display_name": "Python 3.7.0 ('base')",
   "language": "python",
   "name": "python3"
  },
  "language_info": {
   "codemirror_mode": {
    "name": "ipython",
    "version": 3
   },
   "file_extension": ".py",
   "mimetype": "text/x-python",
   "name": "python",
   "nbconvert_exporter": "python",
   "pygments_lexer": "ipython3",
   "version": "3.7.0"
  },
  "orig_nbformat": 4,
  "vscode": {
   "interpreter": {
    "hash": "d12a6980af1de3549060b7b451d48d445ec6b4aaeaf0b0e12a509d2182e95745"
   }
  }
 },
 "nbformat": 4,
 "nbformat_minor": 2
}
